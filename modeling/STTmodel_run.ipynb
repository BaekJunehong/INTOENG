{
 "cells": [
  {
   "cell_type": "code",
   "execution_count": 42,
   "metadata": {},
   "outputs": [
    {
     "name": "stdout",
     "output_type": "stream",
     "text": [
      "텍스트 출력:  the fire alone went of again but when i looked outside there was no one there\n",
      "\n"
     ]
    }
   ],
   "source": [
    "from transformers import pipeline\n",
    "import soundfile as sf\n",
    "\n",
    "# ASR 파이프라인 초기화\n",
    "model = \"./whisper_base_0407\" # model file 경로(경로 지정 필요)\n",
    "asr = pipeline(model=model, task=\"automatic-speech-recognition\")\n",
    "\n",
    "# 음성 파일 경로 리스트\n",
    "audio_file_paths = [\n",
    "    \"./29_audio.wav\", # 음성 파일 경로 (경로 지정 필요)\n",
    "    # 추가 음성 파일 경로\n",
    "]\n",
    "\n",
    "# ASR 함수 정의\n",
    "def transcribe_audio(audio_path):\n",
    "    # soundfile 라이브러리를 사용하여 음성 파일을 읽어 들임\n",
    "    audio_data, _ = sf.read(audio_path)  # 오디오 데이터만 추출\n",
    "    # 음성 데이터를 파이프라인에 전달\n",
    "    transcription = asr(audio_data)\n",
    "    return transcription['text']  # 텍스트 추출\n",
    "\n",
    "# 각 음성 파일에 대한 처리 및 출력\n",
    "for audio_file_path in audio_file_paths:\n",
    "    transcription_text = transcribe_audio(audio_file_path)\n",
    "    print(\"텍스트 출력:\", transcription_text)\n",
    "    print()\n"
   ]
  }
 ],
 "metadata": {
  "kernelspec": {
   "display_name": "Python 3",
   "language": "python",
   "name": "python3"
  },
  "language_info": {
   "codemirror_mode": {
    "name": "ipython",
    "version": 3
   },
   "file_extension": ".py",
   "mimetype": "text/x-python",
   "name": "python",
   "nbconvert_exporter": "python",
   "pygments_lexer": "ipython3",
   "version": "3.7.8"
  }
 },
 "nbformat": 4,
 "nbformat_minor": 2
}
